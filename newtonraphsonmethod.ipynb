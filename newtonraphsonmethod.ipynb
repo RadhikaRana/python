{
  "nbformat": 4,
  "nbformat_minor": 0,
  "metadata": {
    "colab": {
      "name": "newtonraphsonmethod.ipynb",
      "provenance": [],
      "collapsed_sections": [],
      "authorship_tag": "ABX9TyO+IgIaPfQsaiW5I1P5RDNN",
      "include_colab_link": true
    },
    "kernelspec": {
      "name": "python3",
      "display_name": "Python 3"
    },
    "language_info": {
      "name": "python"
    }
  },
  "cells": [
    {
      "cell_type": "markdown",
      "metadata": {
        "id": "view-in-github",
        "colab_type": "text"
      },
      "source": [
        "<a href=\"https://colab.research.google.com/github/RadhikaRana/python/blob/main/newtonraphsonmethod.ipynb\" target=\"_parent\"><img src=\"https://colab.research.google.com/assets/colab-badge.svg\" alt=\"Open In Colab\"/></a>"
      ]
    },
    {
      "cell_type": "code",
      "execution_count": 1,
      "metadata": {
        "colab": {
          "base_uri": "https://localhost:8080/"
        },
        "id": "PzMQ-Lh0exP5",
        "outputId": "4bc1f8fb-29d4-4989-aa34-adae40892b0b"
      },
      "outputs": [
        {
          "output_type": "stream",
          "name": "stdout",
          "text": [
            "The value of the root is :  -1.0000\n"
          ]
        }
      ],
      "source": [
        "# Python3 code for implementation of Newton\n",
        "# Raphson Method for solving equations\n",
        " \n",
        "# An example function whose solution\n",
        "# is determined using Bisection Method.\n",
        "# The function is x^3 - x^2 + 2\n",
        "def func( x ):\n",
        "    return x * x * x - x * x + 2\n",
        " \n",
        "# Derivative of the above function\n",
        "# which is 3*x^x - 2*x\n",
        "def derivFunc( x ):\n",
        "    return 3 * x * x - 2 * x\n",
        " \n",
        "# Function to find the root\n",
        "def newtonRaphson( x ):\n",
        "    h = func(x) / derivFunc(x)\n",
        "    while abs(h) >= 0.0001:\n",
        "        h = func(x)/derivFunc(x)\n",
        "         \n",
        "        # x(i+1) = x(i) - f(x) / f'(x)\n",
        "        x = x - h\n",
        "     \n",
        "    print(\"The value of the root is : \",\n",
        "                             \"%.4f\"% x)\n",
        " \n",
        "# Driver program to test above\n",
        "x0 = -20 # Initial values assumed\n",
        "newtonRaphson(x0)\n",
        " \n"
      ]
    }
  ]
}