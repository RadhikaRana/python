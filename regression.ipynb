{
  "nbformat": 4,
  "nbformat_minor": 0,
  "metadata": {
    "colab": {
      "name": "regression.ipynb",
      "provenance": [],
      "authorship_tag": "ABX9TyOySD0xCfl5Y8OI15pfbJqA",
      "include_colab_link": true
    },
    "kernelspec": {
      "name": "python3",
      "display_name": "Python 3"
    },
    "language_info": {
      "name": "python"
    }
  },
  "cells": [
    {
      "cell_type": "markdown",
      "metadata": {
        "id": "view-in-github",
        "colab_type": "text"
      },
      "source": [
        "<a href=\"https://colab.research.google.com/github/RadhikaRana/python/blob/main/regression.ipynb\" target=\"_parent\"><img src=\"https://colab.research.google.com/assets/colab-badge.svg\" alt=\"Open In Colab\"/></a>"
      ]
    },
    {
      "cell_type": "code",
      "execution_count": null,
      "metadata": {
        "id": "XWYDwbQoJVvS"
      },
      "outputs": [],
      "source": [
        "#programme for Linear Regression\n",
        "#importing numpy Library for taking array as input\n",
        "import numpy as np\n",
        "#importing matplotlib.pyplot for plotting graph\n",
        "import matplotlib.pyplot as pt\n",
        "#importing sklearn for getting linear modeland datasets\n",
        "from sklearn import datasets, linear_model"
      ]
    },
    {
      "cell_type": "code",
      "source": [
        "regr =linear_model.LinearRegression()"
      ],
      "metadata": {
        "id": "r53-ApmtLzoy"
      },
      "execution_count": null,
      "outputs": []
    },
    {
      "cell_type": "code",
      "source": [
        "x=np.array([1,10,20,40,50,70,80,90,120])\n",
        "y=np.array([3,20,90,110,130,170,150,200,260])"
      ],
      "metadata": {
        "id": "kV06iabZMaPz"
      },
      "execution_count": null,
      "outputs": []
    },
    {
      "cell_type": "code",
      "source": [
        "regr = linear_model.LinearRegression()"
      ],
      "metadata": {
        "id": "GT0RSV6SNPKy"
      },
      "execution_count": null,
      "outputs": []
    },
    {
      "cell_type": "code",
      "source": [
        "x=x.reshape(-1,1)"
      ],
      "metadata": {
        "id": "Rnumn3AFNmUi"
      },
      "execution_count": null,
      "outputs": []
    },
    {
      "cell_type": "code",
      "source": [
        "regr.fit(x,y)"
      ],
      "metadata": {
        "colab": {
          "base_uri": "https://localhost:8080/"
        },
        "id": "61mnzIaINwrS",
        "outputId": "ae049f12-092f-49c2-af53-a3991bc71c3b"
      },
      "execution_count": null,
      "outputs": [
        {
          "output_type": "execute_result",
          "data": {
            "text/plain": [
              "LinearRegression()"
            ]
          },
          "metadata": {},
          "execution_count": 6
        }
      ]
    },
    {
      "cell_type": "code",
      "source": [
        "y_pred=regr.predict(x)"
      ],
      "metadata": {
        "id": "f8yt_w-LN56K"
      },
      "execution_count": null,
      "outputs": []
    },
    {
      "cell_type": "code",
      "source": [
        "pt.scatter(x,y)\n",
        "pt.plot(x,y_pred,color='brown')\n",
        "pt.show()"
      ],
      "metadata": {
        "colab": {
          "base_uri": "https://localhost:8080/",
          "height": 265
        },
        "id": "i_J3iEkGOM0Z",
        "outputId": "0a81117e-0384-4b6d-84ad-5866aaa092e9"
      },
      "execution_count": null,
      "outputs": [
        {
          "output_type": "display_data",
          "data": {
            "text/plain": [
              "<Figure size 432x288 with 1 Axes>"
            ],
            "image/png": "[encoded data removed]"
          },
          "metadata": {
            "needs_background": "light"
          }
        }
      ]
    },
    {
      "cell_type": "code",
      "source": [
        "print(regr.coef_)"
      ],
      "metadata": {
        "colab": {
          "base_uri": "https://localhost:8080/"
        },
        "id": "WhhCJBIYOvHD",
        "outputId": "7297b171-a09b-41c9-d458-7bc469e31c0e"
      },
      "execution_count": null,
      "outputs": [
        {
          "output_type": "stream",
          "name": "stdout",
          "text": [
            "[2.00488411]\n"
          ]
        }
      ]
    },
    {
      "cell_type": "code",
      "source": [
        "print(regr.intercept_)"
      ],
      "metadata": {
        "colab": {
          "base_uri": "https://localhost:8080/"
        },
        "outputId": "2e61fd45-3fb8-44cd-9e2e-730ecef10e1f",
        "id": "ZJd3NQkIPhS0"
      },
      "execution_count": null,
      "outputs": [
        {
          "output_type": "stream",
          "name": "stdout",
          "text": [
            "18.73897136054896\n"
          ]
        }
      ]
    },
    {
      "cell_type": "code",
      "source": [
        ""
      ],
      "metadata": {
        "id": "_i8tWn3dPTAZ"
      },
      "execution_count": null,
      "outputs": []
    }
  ]
}