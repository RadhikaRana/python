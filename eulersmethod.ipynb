{
  "nbformat": 4,
  "nbformat_minor": 0,
  "metadata": {
    "colab": {
      "name": "eulersmethod.ipynb",
      "provenance": [],
      "collapsed_sections": [],
      "authorship_tag": "ABX9TyOYtN5jk5JX7G+Ve+ziX8cU",
      "include_colab_link": true
    },
    "kernelspec": {
      "name": "python3",
      "display_name": "Python 3"
    },
    "language_info": {
      "name": "python"
    }
  },
  "cells": [
    {
      "cell_type": "markdown",
      "metadata": {
        "id": "view-in-github",
        "colab_type": "text"
      },
      "source": [
        "<a href=\"https://colab.research.google.com/github/RadhikaRana/python/blob/main/eulersmethod.ipynb\" target=\"_parent\"><img src=\"https://colab.research.google.com/assets/colab-badge.svg\" alt=\"Open In Colab\"/></a>"
      ]
    },
    {
      "cell_type": "code",
      "execution_count": null,
      "metadata": {
        "id": "zxNVwE9jcHTO",
        "colab": {
          "base_uri": "https://localhost:8080/"
        },
        "outputId": "bd61c930-e8af-4931-f44c-8a4473bfa5b5"
      },
      "outputs": [
        {
          "output_type": "stream",
          "name": "stdout",
          "text": [
            "Approximate solution at x =  0.1  is  1.111673\n"
          ]
        }
      ],
      "source": [
        "# Python Code to find approximation\n",
        "# of a ordinary differential equation\n",
        "# using euler method.\n",
        " \n",
        "# Consider a differential equation\n",
        "# dy / dx =(x + y + xy)\n",
        "def func( x, y ):\n",
        "    return (x + y + x * y)\n",
        "     \n",
        "# Function for euler formula\n",
        "def euler( x0, y, h, x ):\n",
        "    temp = -0\n",
        " \n",
        "    # Iterating till the point at which we\n",
        "    # need approximation\n",
        "    while x0 < x:\n",
        "        temp = y\n",
        "        y = y + h * func(x0, y)\n",
        "        x0 = x0 + h\n",
        " \n",
        "    # Printing approximation\n",
        "    print(\"Approximate solution at x = \", x, \" is \", \"%.6f\"% y)\n",
        "     \n",
        "# Driver Code\n",
        "# Initial Values\n",
        "x0 = 0\n",
        "y0 = 1\n",
        "h = 0.025\n",
        " \n",
        "# Value of x at which we need approximation\n",
        "x = 0.1\n",
        " \n",
        "euler(x0, y0, h, x)"
      ]
    }
  ]
}